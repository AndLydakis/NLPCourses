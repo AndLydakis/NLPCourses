{
 "cells": [
  {
   "cell_type": "code",
   "execution_count": null,
   "metadata": {},
   "outputs": [],
   "source": [
    "!pip install textblob 'gensim==4.2.0'"
   ]
  },
  {
   "cell_type": "code",
   "execution_count": 1,
   "metadata": {},
   "outputs": [
    {
     "name": "stderr",
     "output_type": "stream",
     "text": [
      "2024-11-03 14:00:27.165052: I tensorflow/core/util/port.cc:110] oneDNN custom operations are on. You may see slightly different numerical results due to floating-point round-off errors from different computation orders. To turn them off, set the environment variable `TF_ENABLE_ONEDNN_OPTS=0`.\n",
      "2024-11-03 14:00:28.426110: I tensorflow/core/platform/cpu_feature_guard.cc:182] This TensorFlow binary is optimized to use available CPU instructions in performance-critical operations.\n",
      "To enable the following instructions: AVX2 AVX512F AVX512_VNNI FMA, in other operations, rebuild TensorFlow with the appropriate compiler flags.\n",
      "2024-11-03 14:01:15.684379: E tensorflow/compiler/xla/stream_executor/cuda/cuda_driver.cc:268] failed call to cuInit: CUDA_ERROR_NO_DEVICE: no CUDA-capable device is detected\n",
      "2024-11-03 14:01:15.684417: I tensorflow/compiler/xla/stream_executor/cuda/cuda_diagnostics.cc:168] retrieving CUDA diagnostic information for host: VDL900341\n",
      "2024-11-03 14:01:15.684422: I tensorflow/compiler/xla/stream_executor/cuda/cuda_diagnostics.cc:175] hostname: VDL900341\n",
      "2024-11-03 14:01:15.684590: I tensorflow/compiler/xla/stream_executor/cuda/cuda_diagnostics.cc:199] libcuda reported version is: NOT_FOUND: was unable to find libcuda.so DSO loaded into this program\n",
      "2024-11-03 14:01:15.684613: I tensorflow/compiler/xla/stream_executor/cuda/cuda_diagnostics.cc:203] kernel reported version is: 535.183.6\n",
      "[nltk_data] Downloading package punkt to\n",
      "[nltk_data]     /home/alyydi/pluralsight/NLPCert/venv/nltk_data...\n",
      "[nltk_data]   Package punkt is already up-to-date!\n"
     ]
    }
   ],
   "source": [
    "import multiprocessing\n",
    "import os\n",
    "os.environ[\"CUDA_VISIBLE_DEVICES\"] = \"-1\"\n",
    "import tensorflow as tf\n",
    "import sys\n",
    "import np_utils\n",
    "import keras.backend as K\n",
    "from keras.models import Sequential\n",
    "from keras.layers import Dense, Embedding, Lambda, Input\n",
    "from keras.preprocessing import sequence\n",
    "from keras.preprocessing.text import Tokenizer\n",
    "from textblob import TextBlob, Word\n",
    "from keras_preprocessing.sequence import pad_sequences\n",
    "from keras.initializers import Constant\n",
    "from sklearn.feature_extraction.text import CountVectorizer\n",
    "from tensorflow.nn import leaky_relu\n",
    "import numpy as np\n",
    "import re\n",
    "import random\n",
    "import os\n",
    "import pandas as pd\n",
    "import gensim\n",
    "import warnings\n",
    "import nltk\n",
    "\n",
    "epochs = 100\n",
    "embedding_dim = 100\n",
    "fraction_of_negatives_to_downsample=0.3\n",
    "TRACE = False\n",
    "\n",
    "def set_seeds_and_trace():\n",
    "  os.environ['PYTHONHASHSEED'] = '0'\n",
    "  np.random.seed(42)\n",
    "  tf.random.set_seed(42)\n",
    "  random.seed(42)\n",
    "  if TRACE:\n",
    "    tf.debugging.set_log_device_placement(True)\n",
    "\n",
    "def set_session_with_gpus_and_cores():\n",
    "  cores = multiprocessing.cpu_count()\n",
    "  gpus = len(tf.config.list_physical_devices('GPU'))\n",
    "  config = tf.compat.v1.ConfigProto( device_count = {'GPU': gpus  , 'CPU': cores} , intra_op_parallelism_threads=1, inter_op_parallelism_threads=1)\n",
    "  sess = tf.compat.v1.Session(config=config) \n",
    "  tf.compat.v1.keras.backend.set_session(sess)\n",
    "\n",
    "set_seeds_and_trace()\n",
    "set_session_with_gpus_and_cores()\n",
    "warnings.filterwarnings('ignore')\n",
    "nltk.download('punkt')\n",
    "textblob_tokenizer = lambda x: TextBlob(x).words"
   ]
  },
  {
   "cell_type": "code",
   "execution_count": 2,
   "metadata": {},
   "outputs": [
    {
     "name": "stdout",
     "output_type": "stream",
     "text": [
      "Writing get_data.sh\n"
     ]
    }
   ],
   "source": [
    "%%writefile get_data.sh\n",
    "if [ ! -f intents.csv ]; then\n",
    "  wget -O intents.csv https://www.dropbox.com/s/smy3os4px8ionkx/atis_intents.csv?dl=0\n",
    "fi\n",
    "\n",
    "if [ ! -f glove.6B.100d.txt ]; then\n",
    "  wget -O glove.6B.100d.txt https://www.dropbox.com/s/dl1vswq2sz5f1ws/glove.6B.100d.txt?dl=0\n",
    "fi"
   ]
  },
  {
   "cell_type": "code",
   "execution_count": 3,
   "metadata": {},
   "outputs": [],
   "source": [
    "!bash get_data.sh"
   ]
  },
  {
   "cell_type": "code",
   "execution_count": 4,
   "metadata": {},
   "outputs": [
    {
     "name": "stdout",
     "output_type": "stream",
     "text": [
      "atis_flight, i want to fly from boston at 838 am and arrive in denver at 1110 in the morning\n",
      "atis_flight, what flights are available from pittsburgh to baltimore on thursday morning\n",
      "atis_flight_time, what is the arrival time in san francisco for the 755 am flight leaving washington\n",
      "atis_airfare, cheapest airfare from tacoma to orlando\n",
      "atis_airfare, round trip fares from pittsburgh to philadelphia under 1000 dollars\n",
      "atis_flight, i need a flight tomorrow from columbus to minneapolis\n",
      "atis_aircraft, what kind of aircraft is used on a flight from cleveland to dallas\n",
      "atis_flight, show me the flights from pittsburgh to los angeles on thursday\n",
      "atis_flight, all flights from boston to washington\n",
      "atis_ground_service, what kind of ground transportation is available in denver\n"
     ]
    }
   ],
   "source": [
    "! head intents.csv"
   ]
  },
  {
   "cell_type": "code",
   "execution_count": 5,
   "metadata": {},
   "outputs": [],
   "source": [
    "def preprocess_text(text, should_join=True):\n",
    "    text = ' '.join(str(word) for word in textblob_tokenizer(text))\n",
    "    text = re.sub(r\"([.,!?])\", r\" \\1 \", text)\n",
    "    text = re.sub(r\"[^a-zA-Z.,!?]+\", r\" \", text)\n",
    "    if should_join:\n",
    "      return ' '.join(gensim.utils.simple_preprocess(text))\n",
    "    else:\n",
    "      return gensim.utils.simple_preprocess(text)"
   ]
  },
  {
   "cell_type": "code",
   "execution_count": 6,
   "metadata": {},
   "outputs": [
    {
     "data": {
      "text/html": [
       "<div>\n",
       "<style scoped>\n",
       "    .dataframe tbody tr th:only-of-type {\n",
       "        vertical-align: middle;\n",
       "    }\n",
       "\n",
       "    .dataframe tbody tr th {\n",
       "        vertical-align: top;\n",
       "    }\n",
       "\n",
       "    .dataframe thead th {\n",
       "        text-align: right;\n",
       "    }\n",
       "</style>\n",
       "<table border=\"1\" class=\"dataframe\">\n",
       "  <thead>\n",
       "    <tr style=\"text-align: right;\">\n",
       "      <th></th>\n",
       "      <th>intent</th>\n",
       "      <th>query</th>\n",
       "    </tr>\n",
       "  </thead>\n",
       "  <tbody>\n",
       "    <tr>\n",
       "      <th>0</th>\n",
       "      <td>atis_flight</td>\n",
       "      <td>i want to fly from boston at 838 am and arriv...</td>\n",
       "    </tr>\n",
       "    <tr>\n",
       "      <th>1</th>\n",
       "      <td>atis_flight</td>\n",
       "      <td>what flights are available from pittsburgh to...</td>\n",
       "    </tr>\n",
       "    <tr>\n",
       "      <th>2</th>\n",
       "      <td>atis_flight_time</td>\n",
       "      <td>what is the arrival time in san francisco for...</td>\n",
       "    </tr>\n",
       "    <tr>\n",
       "      <th>3</th>\n",
       "      <td>atis_airfare</td>\n",
       "      <td>cheapest airfare from tacoma to orlando</td>\n",
       "    </tr>\n",
       "    <tr>\n",
       "      <th>4</th>\n",
       "      <td>atis_airfare</td>\n",
       "      <td>round trip fares from pittsburgh to philadelp...</td>\n",
       "    </tr>\n",
       "    <tr>\n",
       "      <th>...</th>\n",
       "      <td>...</td>\n",
       "      <td>...</td>\n",
       "    </tr>\n",
       "    <tr>\n",
       "      <th>4973</th>\n",
       "      <td>atis_airfare</td>\n",
       "      <td>what is the airfare for flights from denver t...</td>\n",
       "    </tr>\n",
       "    <tr>\n",
       "      <th>4974</th>\n",
       "      <td>atis_flight</td>\n",
       "      <td>do you have any flights from denver to baltim...</td>\n",
       "    </tr>\n",
       "    <tr>\n",
       "      <th>4975</th>\n",
       "      <td>atis_airline</td>\n",
       "      <td>which airlines fly into and out of denver</td>\n",
       "    </tr>\n",
       "    <tr>\n",
       "      <th>4976</th>\n",
       "      <td>atis_flight</td>\n",
       "      <td>does continental fly from boston to san franc...</td>\n",
       "    </tr>\n",
       "    <tr>\n",
       "      <th>4977</th>\n",
       "      <td>atis_flight</td>\n",
       "      <td>is there a delta flight from denver to san fr...</td>\n",
       "    </tr>\n",
       "  </tbody>\n",
       "</table>\n",
       "<p>4978 rows × 2 columns</p>\n",
       "</div>"
      ],
      "text/plain": [
       "                intent                                              query\n",
       "0          atis_flight   i want to fly from boston at 838 am and arriv...\n",
       "1          atis_flight   what flights are available from pittsburgh to...\n",
       "2     atis_flight_time   what is the arrival time in san francisco for...\n",
       "3         atis_airfare            cheapest airfare from tacoma to orlando\n",
       "4         atis_airfare   round trip fares from pittsburgh to philadelp...\n",
       "...                ...                                                ...\n",
       "4973      atis_airfare   what is the airfare for flights from denver t...\n",
       "4974       atis_flight   do you have any flights from denver to baltim...\n",
       "4975      atis_airline          which airlines fly into and out of denver\n",
       "4976       atis_flight   does continental fly from boston to san franc...\n",
       "4977       atis_flight   is there a delta flight from denver to san fr...\n",
       "\n",
       "[4978 rows x 2 columns]"
      ]
     },
     "execution_count": 6,
     "metadata": {},
     "output_type": "execute_result"
    }
   ],
   "source": [
    "path = './intents.csv'\n",
    "intents = pd.read_csv(path, header=None, names=[\"intent\", \"query\"])\n",
    "intents"
   ]
  },
  {
   "cell_type": "code",
   "execution_count": 7,
   "metadata": {},
   "outputs": [
    {
     "data": {
      "text/plain": [
       "intent\n",
       "atis_flight                                 3666\n",
       "atis_airfare                                 423\n",
       "atis_ground_service                          255\n",
       "atis_airline                                 157\n",
       "atis_abbreviation                            147\n",
       "atis_aircraft                                 81\n",
       "atis_flight_time                              54\n",
       "atis_quantity                                 51\n",
       "atis_flight#atis_airfare                      21\n",
       "atis_airport                                  20\n",
       "atis_distance                                 20\n",
       "atis_city                                     19\n",
       "atis_ground_fare                              18\n",
       "atis_capacity                                 16\n",
       "atis_flight_no                                12\n",
       "atis_meal                                      6\n",
       "atis_restriction                               6\n",
       "atis_airline#atis_flight_no                    2\n",
       "atis_ground_service#atis_ground_fare           1\n",
       "atis_airfare#atis_flight_time                  1\n",
       "atis_cheapest                                  1\n",
       "atis_aircraft#atis_flight#atis_flight_no       1\n",
       "Name: count, dtype: int64"
      ]
     },
     "execution_count": 7,
     "metadata": {},
     "output_type": "execute_result"
    }
   ],
   "source": [
    "intents.intent.value_counts()"
   ]
  },
  {
   "cell_type": "code",
   "execution_count": 8,
   "metadata": {},
   "outputs": [],
   "source": [
    "intents_filtered = intents.groupby('intent').filter(lambda x: len(x) >= 15).reset_index()"
   ]
  },
  {
   "cell_type": "code",
   "execution_count": 9,
   "metadata": {},
   "outputs": [],
   "source": [
    "X = intents_filtered['query']\n",
    "y = intents_filtered.intent"
   ]
  },
  {
   "cell_type": "code",
   "execution_count": 10,
   "metadata": {},
   "outputs": [
    {
     "data": {
      "text/plain": [
       "0            atis_flight\n",
       "1            atis_flight\n",
       "2       atis_flight_time\n",
       "3           atis_airfare\n",
       "4           atis_airfare\n",
       "              ...       \n",
       "4943        atis_airfare\n",
       "4944         atis_flight\n",
       "4945        atis_airline\n",
       "4946         atis_flight\n",
       "4947         atis_flight\n",
       "Name: intent, Length: 4948, dtype: object"
      ]
     },
     "execution_count": 10,
     "metadata": {},
     "output_type": "execute_result"
    }
   ],
   "source": [
    "y"
   ]
  },
  {
   "cell_type": "code",
   "execution_count": 12,
   "metadata": {},
   "outputs": [],
   "source": [
    "corpus_with_ix = [(ix, preprocess_text(sentence, should_join = True)) for ix, sentence in X.items() if type(sentence) == str and len(textblob_tokenizer(sentence)) > 3]"
   ]
  },
  {
   "cell_type": "code",
   "execution_count": 13,
   "metadata": {},
   "outputs": [
    {
     "data": {
      "text/plain": [
       "(0, 'want to fly from boston at am and arrive in denver at in the morning')"
      ]
     },
     "execution_count": 13,
     "metadata": {},
     "output_type": "execute_result"
    }
   ],
   "source": [
    "corpus_with_ix[0]"
   ]
  },
  {
   "cell_type": "code",
   "execution_count": 14,
   "metadata": {},
   "outputs": [],
   "source": [
    "corpus_df = pd.DataFrame(corpus_with_ix, columns=['index', 'text'])"
   ]
  },
  {
   "cell_type": "code",
   "execution_count": 15,
   "metadata": {},
   "outputs": [
    {
     "data": {
      "text/html": [
       "<div>\n",
       "<style scoped>\n",
       "    .dataframe tbody tr th:only-of-type {\n",
       "        vertical-align: middle;\n",
       "    }\n",
       "\n",
       "    .dataframe tbody tr th {\n",
       "        vertical-align: top;\n",
       "    }\n",
       "\n",
       "    .dataframe thead th {\n",
       "        text-align: right;\n",
       "    }\n",
       "</style>\n",
       "<table border=\"1\" class=\"dataframe\">\n",
       "  <thead>\n",
       "    <tr style=\"text-align: right;\">\n",
       "      <th></th>\n",
       "      <th>index</th>\n",
       "      <th>text</th>\n",
       "    </tr>\n",
       "  </thead>\n",
       "  <tbody>\n",
       "    <tr>\n",
       "      <th>0</th>\n",
       "      <td>0</td>\n",
       "      <td>want to fly from boston at am and arrive in de...</td>\n",
       "    </tr>\n",
       "    <tr>\n",
       "      <th>1</th>\n",
       "      <td>1</td>\n",
       "      <td>what flights are available from pittsburgh to ...</td>\n",
       "    </tr>\n",
       "    <tr>\n",
       "      <th>2</th>\n",
       "      <td>2</td>\n",
       "      <td>what is the arrival time in san francisco for ...</td>\n",
       "    </tr>\n",
       "    <tr>\n",
       "      <th>3</th>\n",
       "      <td>3</td>\n",
       "      <td>cheapest airfare from tacoma to orlando</td>\n",
       "    </tr>\n",
       "    <tr>\n",
       "      <th>4</th>\n",
       "      <td>4</td>\n",
       "      <td>round trip fares from pittsburgh to philadelph...</td>\n",
       "    </tr>\n",
       "    <tr>\n",
       "      <th>...</th>\n",
       "      <td>...</td>\n",
       "      <td>...</td>\n",
       "    </tr>\n",
       "    <tr>\n",
       "      <th>4866</th>\n",
       "      <td>4943</td>\n",
       "      <td>what is the airfare for flights from denver to...</td>\n",
       "    </tr>\n",
       "    <tr>\n",
       "      <th>4867</th>\n",
       "      <td>4944</td>\n",
       "      <td>do you have any flights from denver to baltimo...</td>\n",
       "    </tr>\n",
       "    <tr>\n",
       "      <th>4868</th>\n",
       "      <td>4945</td>\n",
       "      <td>which airlines fly into and out of denver</td>\n",
       "    </tr>\n",
       "    <tr>\n",
       "      <th>4869</th>\n",
       "      <td>4946</td>\n",
       "      <td>does continental fly from boston to san franci...</td>\n",
       "    </tr>\n",
       "    <tr>\n",
       "      <th>4870</th>\n",
       "      <td>4947</td>\n",
       "      <td>is there delta flight from denver to san franc...</td>\n",
       "    </tr>\n",
       "  </tbody>\n",
       "</table>\n",
       "<p>4871 rows × 2 columns</p>\n",
       "</div>"
      ],
      "text/plain": [
       "      index                                               text\n",
       "0         0  want to fly from boston at am and arrive in de...\n",
       "1         1  what flights are available from pittsburgh to ...\n",
       "2         2  what is the arrival time in san francisco for ...\n",
       "3         3            cheapest airfare from tacoma to orlando\n",
       "4         4  round trip fares from pittsburgh to philadelph...\n",
       "...     ...                                                ...\n",
       "4866   4943  what is the airfare for flights from denver to...\n",
       "4867   4944  do you have any flights from denver to baltimo...\n",
       "4868   4945          which airlines fly into and out of denver\n",
       "4869   4946  does continental fly from boston to san franci...\n",
       "4870   4947  is there delta flight from denver to san franc...\n",
       "\n",
       "[4871 rows x 2 columns]"
      ]
     },
     "execution_count": 15,
     "metadata": {},
     "output_type": "execute_result"
    }
   ],
   "source": [
    "corpus_df"
   ]
  },
  {
   "cell_type": "code",
   "execution_count": 16,
   "metadata": {},
   "outputs": [],
   "source": [
    "y_filtered = y[corpus_df['index']]"
   ]
  },
  {
   "cell_type": "code",
   "execution_count": 17,
   "metadata": {},
   "outputs": [
    {
     "data": {
      "text/plain": [
       "0            atis_flight\n",
       "1            atis_flight\n",
       "2       atis_flight_time\n",
       "3           atis_airfare\n",
       "4           atis_airfare\n",
       "              ...       \n",
       "4943        atis_airfare\n",
       "4944         atis_flight\n",
       "4945        atis_airline\n",
       "4946         atis_flight\n",
       "4947         atis_flight\n",
       "Name: intent, Length: 4871, dtype: object"
      ]
     },
     "execution_count": 17,
     "metadata": {},
     "output_type": "execute_result"
    }
   ],
   "source": [
    "y_filtered"
   ]
  },
  {
   "cell_type": "code",
   "execution_count": 18,
   "metadata": {},
   "outputs": [],
   "source": [
    "corpus = [preprocess_text(sentence, should_join=False) for ix, sentence in corpus_with_ix]"
   ]
  },
  {
   "cell_type": "code",
   "execution_count": 19,
   "metadata": {},
   "outputs": [],
   "source": [
    "def get_maximum_review_length(tokenized_corpus):\n",
    "    maximum = 0\n",
    "    for sentence in tokenized_corpus:\n",
    "        candidate = len(sentence)\n",
    "        if candidate > maximum:\n",
    "            maximum = candidate\n",
    "    return maximum\n",
    "max_review_length = get_maximum_review_length(corpus)"
   ]
  },
  {
   "cell_type": "code",
   "execution_count": 20,
   "metadata": {},
   "outputs": [],
   "source": [
    "tokenizer = Tokenizer()\n",
    "tokenizer.fit_on_texts(corpus)\n",
    "tokenized_corpus = tokenizer.texts_to_sequences(corpus)\n",
    "nb_samples = sum(len(s) for s in corpus)\n",
    "vocab_size = len(tokenizer.word_index) + 1"
   ]
  },
  {
   "cell_type": "code",
   "execution_count": 21,
   "metadata": {},
   "outputs": [],
   "source": [
    "final_X = np.zeros((len(tokenized_corpus), max_review_length))\n",
    "for ix, tokenized_sentence in enumerate(tokenized_corpus):\n",
    "    tokenized_sentence.extend([0]*(max_review_length-len(tokenized_sentence)))\n",
    "    final_X[ix] = tokenized_sentence"
   ]
  },
  {
   "cell_type": "markdown",
   "metadata": {},
   "source": [
    "Since y_filtered (and y) have many text values, we need to map each intent into a number. We will use the pd.factorize method for that."
   ]
  },
  {
   "cell_type": "code",
   "execution_count": 22,
   "metadata": {},
   "outputs": [],
   "source": [
    "y_factorized, level_intents = pd.factorize(y_filtered)"
   ]
  },
  {
   "cell_type": "code",
   "execution_count": 23,
   "metadata": {},
   "outputs": [
    {
     "data": {
      "text/plain": [
       "(array([0, 0, 1, ..., 6, 0, 0]),\n",
       " Index(['atis_flight', 'atis_flight_time', 'atis_airfare', 'atis_aircraft',\n",
       "        'atis_ground_service', 'atis_airport', 'atis_airline', 'atis_distance',\n",
       "        'atis_abbreviation', 'atis_ground_fare', 'atis_quantity', 'atis_city',\n",
       "        'atis_capacity', 'atis_flight#atis_airfare'],\n",
       "       dtype='object'))"
      ]
     },
     "execution_count": 23,
     "metadata": {},
     "output_type": "execute_result"
    }
   ],
   "source": [
    "y_factorized, level_intents"
   ]
  },
  {
   "cell_type": "markdown",
   "metadata": {},
   "source": [
    "# Creating the embedding matrix  \n",
    "This is the same part, we will construct an embedding matrix that maps each word in the tokenizer (via the ID it gets in the dataset) to the GloVe 100 dimensional representation of that word. This will be the input to the Embedding layer."
   ]
  },
  {
   "cell_type": "code",
   "execution_count": 24,
   "metadata": {},
   "outputs": [
    {
     "name": "stdout",
     "output_type": "stream",
     "text": [
      "Found 400001 word vectors.\n"
     ]
    }
   ],
   "source": [
    "path_to_glove_file = \"./glove.6B.100d.txt\"\n",
    "embeddings_index = {}\n",
    "with open(path_to_glove_file) as f:\n",
    "    for line in f:\n",
    "        word, coefs = line.split(maxsplit=1)\n",
    "        coefs = np.fromstring(coefs, \"f\", sep=\" \")\n",
    "        embeddings_index[word] = coefs\n",
    "\n",
    "print(\"Found %s word vectors.\" % len(embeddings_index))"
   ]
  },
  {
   "cell_type": "code",
   "execution_count": 25,
   "metadata": {},
   "outputs": [
    {
     "name": "stdout",
     "output_type": "stream",
     "text": [
      "Converted 696 words (1 misses)\n"
     ]
    }
   ],
   "source": [
    "embedding_dim = 100\n",
    "num_tokens = vocab_size + 1\n",
    "hits = 0\n",
    "misses = 0\n",
    "\n",
    "# Prepare embedding matrix\n",
    "embedding_matrix = np.zeros((num_tokens, embedding_dim))\n",
    "for word, i in tokenizer.word_index.items():\n",
    "    embedding_vector = embeddings_index.get(word)\n",
    "    if embedding_vector is not None:\n",
    "        # Words not found in embedding index will be all-zeros.\n",
    "        # This includes the representation for \"padding\" and \"OOV\"\n",
    "        embedding_matrix[i] = embedding_vector\n",
    "        hits += 1\n",
    "    else:\n",
    "        misses += 1\n",
    "print(\"Converted %d words (%d misses)\" % (hits, misses))"
   ]
  },
  {
   "cell_type": "code",
   "execution_count": 26,
   "metadata": {},
   "outputs": [],
   "source": [
    "from sklearn.model_selection import train_test_split\n",
    "X_train, X_test, y_train, y_test = train_test_split(final_X, y_factorized, test_size = 0.3, random_state=42)"
   ]
  },
  {
   "cell_type": "code",
   "execution_count": 27,
   "metadata": {},
   "outputs": [],
   "source": [
    "X_train_tensor = tf.constant(X_train)\n",
    "X_test_tensor = tf.constant(X_test)\n",
    "y_train_tensor = tf.one_hot(tf.constant(y_train), len(level_intents))\n",
    "y_test_tensor = tf.one_hot(tf.constant(y_test), len(level_intents))"
   ]
  },
  {
   "cell_type": "code",
   "execution_count": 28,
   "metadata": {},
   "outputs": [
    {
     "data": {
      "text/plain": [
       "(TensorShape([3409, 43]),\n",
       " TensorShape([1462, 43]),\n",
       " TensorShape([3409, 14]),\n",
       " TensorShape([1462, 14]))"
      ]
     },
     "execution_count": 28,
     "metadata": {},
     "output_type": "execute_result"
    }
   ],
   "source": [
    "X_train_tensor.shape, X_test_tensor.shape, y_train_tensor.shape, y_test_tensor.shape"
   ]
  },
  {
   "cell_type": "code",
   "execution_count": 29,
   "metadata": {},
   "outputs": [],
   "source": [
    "model = Sequential()\n",
    "model.add(Embedding(input_dim=embedding_matrix.shape[0], output_dim=embedding_matrix.shape[1], input_length=max_review_length, embeddings_initializer=Constant(embedding_matrix), trainable=False))\n",
    "model.add(Dense(100, activation=leaky_relu))\n",
    "model.add(Dense(50, activation=leaky_relu))\n",
    "model.add(Lambda(lambda x: K.mean(x, axis=1), output_shape=(embedding_dim,)))\n",
    "model.add(Dense(50, activation=leaky_relu))\n",
    "model.add(Dense(len(level_intents), activation='softmax'))"
   ]
  },
  {
   "cell_type": "code",
   "execution_count": 30,
   "metadata": {},
   "outputs": [
    {
     "name": "stdout",
     "output_type": "stream",
     "text": [
      "Model: \"sequential\"\n",
      "_________________________________________________________________\n",
      " Layer (type)                Output Shape              Param #   \n",
      "=================================================================\n",
      " embedding (Embedding)       (None, 43, 100)           69900     \n",
      "                                                                 \n",
      " dense (Dense)               (None, 43, 100)           10100     \n",
      "                                                                 \n",
      " dense_1 (Dense)             (None, 43, 50)            5050      \n",
      "                                                                 \n",
      " lambda (Lambda)             (None, 50)                0         \n",
      "                                                                 \n",
      " dense_2 (Dense)             (None, 50)                2550      \n",
      "                                                                 \n",
      " dense_3 (Dense)             (None, 14)                714       \n",
      "                                                                 \n",
      "=================================================================\n",
      "Total params: 88314 (344.98 KB)\n",
      "Trainable params: 18414 (71.93 KB)\n",
      "Non-trainable params: 69900 (273.05 KB)\n",
      "_________________________________________________________________\n"
     ]
    }
   ],
   "source": [
    "\n",
    "model.compile(optimizer='adam', loss=tf.keras.losses.CategoricalCrossentropy(), metrics=[\"accuracy\", tf.keras.metrics.Precision(name='precision'), tf.keras.metrics.Recall(name='recall')])\n",
    "model.summary()"
   ]
  },
  {
   "cell_type": "code",
   "execution_count": 31,
   "metadata": {},
   "outputs": [
    {
     "name": "stdout",
     "output_type": "stream",
     "text": [
      "Epoch 1/30\n",
      "86/86 [==============================] - 2s 8ms/step - loss: 1.3431 - accuracy: 0.7198 - precision: 0.7769 - recall: 0.5288 - val_loss: 0.9790 - val_accuracy: 0.7669 - val_precision: 0.7937 - val_recall: 0.7449\n",
      "Epoch 2/30\n",
      "86/86 [==============================] - 0s 4ms/step - loss: 0.9461 - accuracy: 0.7396 - precision: 0.8029 - recall: 0.7305 - val_loss: 0.8267 - val_accuracy: 0.7742 - val_precision: 0.8540 - val_recall: 0.7375\n",
      "Epoch 3/30\n",
      "86/86 [==============================] - 0s 4ms/step - loss: 0.7292 - accuracy: 0.8045 - precision: 0.8711 - recall: 0.7459 - val_loss: 0.6355 - val_accuracy: 0.8446 - val_precision: 0.8920 - val_recall: 0.7991\n",
      "Epoch 4/30\n",
      "86/86 [==============================] - 0s 4ms/step - loss: 0.5775 - accuracy: 0.8563 - precision: 0.9024 - recall: 0.8273 - val_loss: 0.5179 - val_accuracy: 0.8666 - val_precision: 0.9006 - val_recall: 0.8372\n",
      "Epoch 5/30\n",
      "86/86 [==============================] - 0s 4ms/step - loss: 0.4885 - accuracy: 0.8706 - precision: 0.9103 - recall: 0.8486 - val_loss: 0.5197 - val_accuracy: 0.8578 - val_precision: 0.9075 - val_recall: 0.8196\n",
      "Epoch 6/30\n",
      "86/86 [==============================] - 0s 4ms/step - loss: 0.4318 - accuracy: 0.8838 - precision: 0.9168 - recall: 0.8563 - val_loss: 0.4224 - val_accuracy: 0.8680 - val_precision: 0.9151 - val_recall: 0.8372\n",
      "Epoch 7/30\n",
      "86/86 [==============================] - 0s 4ms/step - loss: 0.3868 - accuracy: 0.8911 - precision: 0.9234 - recall: 0.8625 - val_loss: 0.3988 - val_accuracy: 0.8798 - val_precision: 0.9108 - val_recall: 0.8534\n",
      "Epoch 8/30\n",
      "86/86 [==============================] - 0s 4ms/step - loss: 0.3662 - accuracy: 0.8977 - precision: 0.9223 - recall: 0.8706 - val_loss: 0.3653 - val_accuracy: 0.8974 - val_precision: 0.9250 - val_recall: 0.8680\n",
      "Epoch 9/30\n",
      "86/86 [==============================] - 0s 4ms/step - loss: 0.3316 - accuracy: 0.9054 - precision: 0.9279 - recall: 0.8779 - val_loss: 0.3369 - val_accuracy: 0.9047 - val_precision: 0.9255 - val_recall: 0.8739\n",
      "Epoch 10/30\n",
      "86/86 [==============================] - 0s 4ms/step - loss: 0.3089 - accuracy: 0.9146 - precision: 0.9356 - recall: 0.8900 - val_loss: 0.3180 - val_accuracy: 0.9047 - val_precision: 0.9234 - val_recall: 0.8842\n",
      "Epoch 11/30\n",
      "86/86 [==============================] - 0s 5ms/step - loss: 0.2903 - accuracy: 0.9171 - precision: 0.9349 - recall: 0.8959 - val_loss: 0.3023 - val_accuracy: 0.9106 - val_precision: 0.9303 - val_recall: 0.8812\n",
      "Epoch 12/30\n",
      "86/86 [==============================] - 0s 4ms/step - loss: 0.2757 - accuracy: 0.9226 - precision: 0.9415 - recall: 0.9028 - val_loss: 0.2992 - val_accuracy: 0.9106 - val_precision: 0.9254 - val_recall: 0.8915\n",
      "Epoch 13/30\n",
      "86/86 [==============================] - 0s 4ms/step - loss: 0.2658 - accuracy: 0.9256 - precision: 0.9423 - recall: 0.9047 - val_loss: 0.2819 - val_accuracy: 0.9179 - val_precision: 0.9387 - val_recall: 0.8988\n",
      "Epoch 14/30\n",
      "86/86 [==============================] - 0s 4ms/step - loss: 0.2530 - accuracy: 0.9322 - precision: 0.9459 - recall: 0.9105 - val_loss: 0.2695 - val_accuracy: 0.9296 - val_precision: 0.9383 - val_recall: 0.9135\n",
      "Epoch 15/30\n",
      "86/86 [==============================] - 0s 4ms/step - loss: 0.2432 - accuracy: 0.9300 - precision: 0.9478 - recall: 0.9186 - val_loss: 0.2695 - val_accuracy: 0.9208 - val_precision: 0.9407 - val_recall: 0.9076\n",
      "Epoch 16/30\n",
      "86/86 [==============================] - 0s 4ms/step - loss: 0.2280 - accuracy: 0.9351 - precision: 0.9476 - recall: 0.9223 - val_loss: 0.2535 - val_accuracy: 0.9282 - val_precision: 0.9351 - val_recall: 0.9091\n",
      "Epoch 17/30\n",
      "86/86 [==============================] - 0s 4ms/step - loss: 0.2225 - accuracy: 0.9344 - precision: 0.9507 - recall: 0.9193 - val_loss: 0.2515 - val_accuracy: 0.9296 - val_precision: 0.9482 - val_recall: 0.9120\n",
      "Epoch 18/30\n",
      "86/86 [==============================] - 0s 4ms/step - loss: 0.2071 - accuracy: 0.9413 - precision: 0.9551 - recall: 0.9292 - val_loss: 0.2399 - val_accuracy: 0.9296 - val_precision: 0.9498 - val_recall: 0.9150\n",
      "Epoch 19/30\n",
      "86/86 [==============================] - 0s 5ms/step - loss: 0.2009 - accuracy: 0.9406 - precision: 0.9580 - recall: 0.9289 - val_loss: 0.2576 - val_accuracy: 0.9223 - val_precision: 0.9407 - val_recall: 0.9076\n",
      "Epoch 20/30\n",
      "86/86 [==============================] - 0s 4ms/step - loss: 0.1894 - accuracy: 0.9454 - precision: 0.9608 - recall: 0.9358 - val_loss: 0.2461 - val_accuracy: 0.9340 - val_precision: 0.9433 - val_recall: 0.9267\n",
      "Epoch 21/30\n",
      "86/86 [==============================] - 0s 4ms/step - loss: 0.1806 - accuracy: 0.9461 - precision: 0.9609 - recall: 0.9366 - val_loss: 0.2240 - val_accuracy: 0.9311 - val_precision: 0.9496 - val_recall: 0.9120\n",
      "Epoch 22/30\n",
      "86/86 [==============================] - 0s 5ms/step - loss: 0.1749 - accuracy: 0.9490 - precision: 0.9619 - recall: 0.9362 - val_loss: 0.2402 - val_accuracy: 0.9267 - val_precision: 0.9385 - val_recall: 0.9179\n",
      "Epoch 23/30\n",
      "86/86 [==============================] - 0s 4ms/step - loss: 0.1654 - accuracy: 0.9523 - precision: 0.9646 - recall: 0.9406 - val_loss: 0.2441 - val_accuracy: 0.9311 - val_precision: 0.9363 - val_recall: 0.9267\n",
      "Epoch 24/30\n",
      "86/86 [==============================] - 0s 4ms/step - loss: 0.1612 - accuracy: 0.9556 - precision: 0.9636 - recall: 0.9424 - val_loss: 0.2210 - val_accuracy: 0.9384 - val_precision: 0.9463 - val_recall: 0.9296\n",
      "Epoch 25/30\n",
      "86/86 [==============================] - 0s 3ms/step - loss: 0.1509 - accuracy: 0.9582 - precision: 0.9714 - recall: 0.9472 - val_loss: 0.2279 - val_accuracy: 0.9311 - val_precision: 0.9375 - val_recall: 0.9238\n",
      "Epoch 26/30\n",
      "86/86 [==============================] - 0s 4ms/step - loss: 0.1511 - accuracy: 0.9527 - precision: 0.9651 - recall: 0.9421 - val_loss: 0.2268 - val_accuracy: 0.9384 - val_precision: 0.9460 - val_recall: 0.9252\n",
      "Epoch 27/30\n",
      "86/86 [==============================] - 0s 4ms/step - loss: 0.1391 - accuracy: 0.9560 - precision: 0.9688 - recall: 0.9446 - val_loss: 0.2234 - val_accuracy: 0.9384 - val_precision: 0.9463 - val_recall: 0.9296\n",
      "Epoch 28/30\n",
      "86/86 [==============================] - 0s 4ms/step - loss: 0.1367 - accuracy: 0.9549 - precision: 0.9660 - recall: 0.9479 - val_loss: 0.2142 - val_accuracy: 0.9326 - val_precision: 0.9444 - val_recall: 0.9223\n"
     ]
    }
   ],
   "source": [
    "callback = tf.keras.callbacks.EarlyStopping(monitor='val_precision', patience=10, min_delta=0.01, mode=\"max\")\n",
    "history = model.fit(X_train_tensor, y_train_tensor, epochs = 30, validation_split=0.2, workers = 5, callbacks=[callback])"
   ]
  },
  {
   "cell_type": "code",
   "execution_count": 32,
   "metadata": {},
   "outputs": [
    {
     "data": {
      "image/png": "[encoded data removed]",
      "text/plain": [
       "<Figure size 640x480 with 1 Axes>"
      ]
     },
     "metadata": {},
     "output_type": "display_data"
    }
   ],
   "source": [
    "import matplotlib.pyplot as plt\n",
    "# function for plotting loss\n",
    "def plot_metrics(train_metric, val_metric=None, metric_name=None, title=None, ylim=5):\n",
    "    plt.title(title)\n",
    "    plt.ylim(0,ylim)\n",
    "    plt.plot(train_metric,color='blue',label=metric_name)\n",
    "    if val_metric is not None: plt.plot(val_metric,color='green',label='val_' + metric_name)\n",
    "    plt.legend(loc=\"upper right\")\n",
    "\n",
    "# plot loss history\n",
    "plot_metrics(history.history['loss'], history.history['val_loss'], \"Loss\", \"Loss\", ylim=1.0)"
   ]
  },
  {
   "cell_type": "code",
   "execution_count": 33,
   "metadata": {},
   "outputs": [
    {
     "data": {
      "image/png": "[encoded data removed]",
      "text/plain": [
       "<Figure size 640x480 with 1 Axes>"
      ]
     },
     "metadata": {},
     "output_type": "display_data"
    }
   ],
   "source": [
    "plot_metrics(history.history['accuracy'], history.history['val_accuracy'], \"Accuracy\", \"Accuracy\", ylim=1.0)"
   ]
  },
  {
   "cell_type": "code",
   "execution_count": 34,
   "metadata": {},
   "outputs": [
    {
     "data": {
      "image/png": "[encoded data removed]",
      "text/plain": [
       "<Figure size 640x480 with 1 Axes>"
      ]
     },
     "metadata": {},
     "output_type": "display_data"
    }
   ],
   "source": [
    "plot_metrics(history.history['precision'], history.history['val_precision'], \"Precision\", \"Precision\", ylim=1.0)"
   ]
  },
  {
   "cell_type": "code",
   "execution_count": 35,
   "metadata": {},
   "outputs": [
    {
     "data": {
      "text/plain": [
       "Index(['atis_flight', 'atis_flight_time', 'atis_airfare', 'atis_aircraft',\n",
       "       'atis_ground_service', 'atis_airport', 'atis_airline', 'atis_distance',\n",
       "       'atis_abbreviation', 'atis_ground_fare', 'atis_quantity', 'atis_city',\n",
       "       'atis_capacity', 'atis_flight#atis_airfare'],\n",
       "      dtype='object')"
      ]
     },
     "execution_count": 35,
     "metadata": {},
     "output_type": "execute_result"
    }
   ],
   "source": [
    "level_intents"
   ]
  },
  {
   "cell_type": "code",
   "execution_count": 36,
   "metadata": {},
   "outputs": [],
   "source": [
    "x_val = np.zeros((4, max_review_length))\n",
    "queries = ['Which hour is the next flight', 'how many flights leave in the morning', 'i want to flight to new york at the morning', 'which flight flies with an airbus A350']\n",
    "for ix, tokenized_sentence in enumerate(tokenizer.texts_to_sequences([preprocess_text(sentence, should_join=True) for sentence in queries])):\n",
    "    tokenized_sentence.extend([0]*(max_review_length-len(tokenized_sentence)))\n",
    "    x_val[ix] = tokenized_sentence\n",
    "y_val = tf.one_hot(tf.constant([1, 10, 0, 3 ]), 14)"
   ]
  },
  {
   "cell_type": "code",
   "execution_count": 37,
   "metadata": {},
   "outputs": [
    {
     "data": {
      "text/plain": [
       "array([[ 62.,  19.,   4., 111.,   8.,   0.,   0.,   0.,   0.,   0.,   0.,\n",
       "          0.,   0.,   0.,   0.,   0.,   0.,   0.,   0.,   0.,   0.,   0.,\n",
       "          0.,   0.,   0.,   0.,   0.,   0.,   0.,   0.,   0.,   0.,   0.,\n",
       "          0.,   0.,   0.,   0.,   0.,   0.,   0.,   0.,   0.,   0.],\n",
       "       [ 78., 141.,   3.,  69.,  14.,   4.,  33.,   0.,   0.,   0.,   0.,\n",
       "          0.,   0.,   0.,   0.,   0.,   0.,   0.,   0.,   0.,   0.,   0.,\n",
       "          0.,   0.,   0.,   0.,   0.,   0.,   0.,   0.,   0.,   0.,   0.,\n",
       "          0.,   0.,   0.,   0.,   0.,   0.,   0.,   0.,   0.,   0.],\n",
       "       [ 67.,   1.,   8.,   1.,  66.,  70.,  65.,   4.,  33.,   0.,   0.,\n",
       "          0.,   0.,   0.,   0.,   0.,   0.,   0.,   0.,   0.,   0.,   0.,\n",
       "          0.,   0.,   0.,   0.,   0.,   0.,   0.,   0.,   0.,   0.,   0.,\n",
       "          0.,   0.,   0.,   0.,   0.,   0.,   0.,   0.,   0.,   0.],\n",
       "       [ 62.,   8., 278.,  56., 140.,   0.,   0.,   0.,   0.,   0.,   0.,\n",
       "          0.,   0.,   0.,   0.,   0.,   0.,   0.,   0.,   0.,   0.,   0.,\n",
       "          0.,   0.,   0.,   0.,   0.,   0.,   0.,   0.,   0.,   0.,   0.,\n",
       "          0.,   0.,   0.,   0.,   0.,   0.,   0.,   0.,   0.,   0.]])"
      ]
     },
     "execution_count": 37,
     "metadata": {},
     "output_type": "execute_result"
    }
   ],
   "source": [
    "x_val"
   ]
  },
  {
   "cell_type": "code",
   "execution_count": 38,
   "metadata": {},
   "outputs": [
    {
     "name": "stdout",
     "output_type": "stream",
     "text": [
      "1/1 [==============================] - 0s 226ms/step\n"
     ]
    },
    {
     "data": {
      "text/plain": [
       "array([[9.56863284e-01, 4.01391974e-03, 5.54911239e-05, 2.51218356e-04,\n",
       "        5.17819672e-06, 3.27127357e-03, 3.09896488e-02, 1.38153817e-04,\n",
       "        5.71702694e-05, 3.22619741e-07, 8.61072156e-04, 3.39223049e-03,\n",
       "        3.94767485e-05, 6.15951212e-05],\n",
       "       [5.11176348e-01, 4.12650667e-02, 3.52891628e-03, 2.76096584e-03,\n",
       "        3.84786199e-06, 4.64873476e-04, 7.77385198e-03, 1.19131035e-03,\n",
       "        2.44105206e-04, 1.13325696e-05, 4.15753365e-01, 6.07479690e-03,\n",
       "        5.56043908e-03, 4.19079000e-03],\n",
       "       [9.98728454e-01, 8.55522463e-04, 8.92499429e-06, 5.72092722e-06,\n",
       "        2.78851445e-07, 1.05743573e-04, 2.30362464e-04, 5.35328354e-06,\n",
       "        2.31147752e-07, 2.43646903e-09, 1.63340756e-05, 3.56772071e-05,\n",
       "        1.10362954e-07, 7.27321367e-06],\n",
       "       [5.06468892e-01, 9.19355429e-04, 6.83596284e-07, 8.02431430e-04,\n",
       "        3.70011207e-07, 3.01357242e-03, 4.56136167e-01, 2.92259429e-05,\n",
       "        7.05371622e-06, 2.08689102e-08, 1.32006139e-03, 3.11744530e-02,\n",
       "        1.25918727e-04, 1.82894848e-06]], dtype=float32)"
      ]
     },
     "execution_count": 38,
     "metadata": {},
     "output_type": "execute_result"
    }
   ],
   "source": [
    "model.predict(x_val)"
   ]
  },
  {
   "cell_type": "code",
   "execution_count": 39,
   "metadata": {},
   "outputs": [
    {
     "name": "stdout",
     "output_type": "stream",
     "text": [
      "1/1 [==============================] - 0s 17ms/step\n"
     ]
    },
    {
     "data": {
      "text/plain": [
       "<tf.Tensor: shape=(4,), dtype=int64, numpy=array([0, 0, 0, 0])>"
      ]
     },
     "execution_count": 39,
     "metadata": {},
     "output_type": "execute_result"
    }
   ],
   "source": [
    "tf.math.argmax(model.predict(x_val), axis=1)"
   ]
  },
  {
   "cell_type": "code",
   "execution_count": 40,
   "metadata": {},
   "outputs": [
    {
     "name": "stdout",
     "output_type": "stream",
     "text": [
      "1/1 [==============================] - 0s 17ms/step\n"
     ]
    },
    {
     "data": {
      "text/plain": [
       "<tf.Tensor: shape=(4,), dtype=bool, numpy=array([False, False,  True, False])>"
      ]
     },
     "execution_count": 40,
     "metadata": {},
     "output_type": "execute_result"
    }
   ],
   "source": [
    "tf.math.argmax(model.predict(x_val), axis=1) == tf.math.argmax(y_val, axis=1)"
   ]
  },
  {
   "cell_type": "code",
   "execution_count": 41,
   "metadata": {},
   "outputs": [
    {
     "data": {
      "text/plain": [
       "<tf.Tensor: shape=(4,), dtype=int64, numpy=array([ 1, 10,  0,  3])>"
      ]
     },
     "execution_count": 41,
     "metadata": {},
     "output_type": "execute_result"
    }
   ],
   "source": [
    "tf.math.argmax(y_val, axis=1)"
   ]
  },
  {
   "cell_type": "code",
   "execution_count": 42,
   "metadata": {},
   "outputs": [
    {
     "name": "stdout",
     "output_type": "stream",
     "text": [
      "46/46 [==============================] - 0s 2ms/step - loss: 0.1671 - accuracy: 0.9549 - precision: 0.9657 - recall: 0.9432\n"
     ]
    },
    {
     "data": {
      "text/plain": [
       "[0.16708064079284668,\n",
       " 0.9548563361167908,\n",
       " 0.9656862616539001,\n",
       " 0.9432284832000732]"
      ]
     },
     "execution_count": 42,
     "metadata": {},
     "output_type": "execute_result"
    }
   ],
   "source": [
    "model.evaluate(X_test_tensor, y_test_tensor)"
   ]
  }
 ],
 "metadata": {
  "kernelspec": {
   "display_name": "venv",
   "language": "python",
   "name": "python3"
  },
  "language_info": {
   "codemirror_mode": {
    "name": "ipython",
    "version": 3
   },
   "file_extension": ".py",
   "mimetype": "text/x-python",
   "name": "python",
   "nbconvert_exporter": "python",
   "pygments_lexer": "ipython3",
   "version": "3.8.10"
  }
 },
 "nbformat": 4,
 "nbformat_minor": 2
}
